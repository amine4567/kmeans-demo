{
 "cells": [
  {
   "cell_type": "markdown",
   "metadata": {},
   "source": [
    "# K-Means étape par étape"
   ]
  },
  {
   "cell_type": "code",
   "execution_count": 1,
   "metadata": {},
   "outputs": [],
   "source": [
    "from IPython.display import clear_output"
   ]
  },
  {
   "cell_type": "code",
   "execution_count": 2,
   "metadata": {},
   "outputs": [],
   "source": [
    "import time\n",
    "\n",
    "from scipy.spatial.distance import euclidean\n",
    "import numpy as np\n",
    "\n",
    "from sklearn import datasets\n",
    "from sklearn.cluster import KMeans\n",
    "\n",
    "from ipywidgets import IntSlider, HBox, VBox, Button, Output, Play, jslink, Layout\n",
    "from ipywidgets import Label as widgets_label\n",
    "\n",
    "from bqplot import (\n",
    "    LogScale, LinearScale, OrdinalColorScale, ColorAxis,\n",
    "    Axis, Scatter, Lines, CATEGORY10, Label, Figure, Tooltip\n",
    ")"
   ]
  },
  {
   "cell_type": "code",
   "execution_count": 3,
   "metadata": {},
   "outputs": [],
   "source": [
    "output = Output()"
   ]
  },
  {
   "cell_type": "code",
   "execution_count": 4,
   "metadata": {},
   "outputs": [],
   "source": [
    "current_k = 5"
   ]
  },
  {
   "cell_type": "code",
   "execution_count": 5,
   "metadata": {},
   "outputs": [],
   "source": [
    "initial_k=5"
   ]
  },
  {
   "cell_type": "code",
   "execution_count": 6,
   "metadata": {},
   "outputs": [],
   "source": [
    "n_samples = 2000"
   ]
  },
  {
   "cell_type": "code",
   "execution_count": 7,
   "metadata": {},
   "outputs": [],
   "source": [
    "blobs = datasets.make_blobs(n_samples=n_samples,centers=initial_k, random_state=20)"
   ]
  },
  {
   "cell_type": "code",
   "execution_count": 8,
   "metadata": {},
   "outputs": [],
   "source": [
    "data_tab = blobs[0]"
   ]
  },
  {
   "cell_type": "code",
   "execution_count": 9,
   "metadata": {},
   "outputs": [],
   "source": [
    "x_sc = LinearScale(min=blobs[0][:,0].min()-2, max=blobs[0][:,0].max()+2)\n",
    "y_sc = LinearScale(min=blobs[0][:,1].min()-2, max=blobs[0][:,1].max()+2)\n",
    "c_sc = OrdinalColorScale(domain=np.arange(10).tolist(), colors=CATEGORY10[:6])"
   ]
  },
  {
   "cell_type": "code",
   "execution_count": 10,
   "metadata": {},
   "outputs": [],
   "source": [
    "ax_y = Axis(label='y', scale=y_sc, orientation='vertical', side='left', grid_lines='solid')\n",
    "ax_x = Axis(label='x', scale=x_sc, grid_lines='solid')"
   ]
  },
  {
   "cell_type": "code",
   "execution_count": 11,
   "metadata": {},
   "outputs": [],
   "source": [
    "scat = Scatter(x=blobs[0][:,0],\n",
    "               y=blobs[0][:,1],\n",
    "               scales={'x': x_sc, 'y': y_sc, 'color': c_sc}, color=[1])"
   ]
  },
  {
   "cell_type": "code",
   "execution_count": 12,
   "metadata": {},
   "outputs": [],
   "source": [
    "scat_centroids = Scatter(x=[0], y=[0], scales={\"x\": x_sc, \"y\": y_sc}, colors=[\"black\"])"
   ]
  },
  {
   "cell_type": "code",
   "execution_count": 13,
   "metadata": {},
   "outputs": [],
   "source": [
    "fig = Figure(marks=[scat, scat_centroids], title='K-means', animation_duration=10, axes=[ax_x, ax_y])"
   ]
  },
  {
   "cell_type": "code",
   "execution_count": 14,
   "metadata": {},
   "outputs": [],
   "source": [
    "inertia = 0."
   ]
  },
  {
   "cell_type": "code",
   "execution_count": 15,
   "metadata": {},
   "outputs": [],
   "source": [
    "start_button = Button(description=\"Start\")\n",
    "reset_button = Button(description=\"Reset\")\n",
    "next_button = Button(description=\"Next step\")"
   ]
  },
  {
   "cell_type": "code",
   "execution_count": 16,
   "metadata": {},
   "outputs": [],
   "source": [
    "play_button = Button(description=\"Play animation\")"
   ]
  },
  {
   "cell_type": "code",
   "execution_count": 17,
   "metadata": {},
   "outputs": [],
   "source": [
    "def affect_members(member, centroids):\n",
    "    member_old = member.copy()\n",
    "    \n",
    "    for i, x in enumerate(data_tab):\n",
    "        dist_x = euclidean(x,centroids[current_k-1])\n",
    "        member[i] = current_k-1\n",
    "        for j in range(current_k-1):\n",
    "            if euclidean(x,centroids[j]) < dist_x:\n",
    "                dist_x = euclidean(x,centroids[j])\n",
    "                member[i] = j\n",
    "    \n",
    "    scat.color = member_old\n",
    "    \n",
    "    scat.color = member\n",
    "    \n",
    "    with output:\n",
    "        clear_output()\n",
    "        print(\"Members affected\")\n",
    "    \n",
    "    return member"
   ]
  },
  {
   "cell_type": "code",
   "execution_count": 18,
   "metadata": {},
   "outputs": [],
   "source": [
    "def update_centroids(member, centroids):\n",
    "    centroids_old = centroids.copy()\n",
    "    \n",
    "    #compute the new centroids\n",
    "    for j in range(current_k):\n",
    "        centroids[j] = np.asarray([elt for i, elt in enumerate(data_tab) if member[i]==j]).mean(axis=0)\n",
    "    \n",
    "    scat_centroids.x = centroids_old[:, 0]\n",
    "    scat_centroids.y = centroids_old[:, 1]\n",
    "    \n",
    "    scat_centroids.x = centroids[:, 0]\n",
    "    scat_centroids.y = centroids[:, 1]\n",
    "    \n",
    "    with output:\n",
    "        clear_output()\n",
    "        print(\"centroids updated\")\n",
    "    \n",
    "    return centroids"
   ]
  },
  {
   "cell_type": "code",
   "execution_count": 19,
   "metadata": {},
   "outputs": [],
   "source": [
    "centroids_i = np.random.choice(n_samples,current_k,replace=False)\n",
    "centroids = blobs[0][centroids_i]\n",
    "cmpt = 0\n",
    "\n",
    "member=np.empty_like(blobs[1])\n",
    "\n",
    "substep1 = True\n",
    "\n",
    "scat_centroids.x = centroids[:, 0]\n",
    "scat_centroids.y = centroids[:, 1]\n",
    "\n",
    "def init_or_reset():\n",
    "    global centroids\n",
    "    global cmpt\n",
    "    global member\n",
    "    global substep1\n",
    "    \n",
    "    member=np.empty_like(blobs[1])\n",
    "    centroids_i = np.random.choice(n_samples,current_k,replace=False)\n",
    "    centroids = blobs[0][centroids_i]\n",
    "    cmpt = 0\n",
    "    substep1 = True\n",
    "       \n",
    "    scat_centroids.x = centroids[:, 0]\n",
    "    scat_centroids.y = centroids[:, 1]\n",
    "    scat.color = [0]\n",
    "    \n",
    "    with output:\n",
    "        clear_output()\n",
    "        print(\"centroids initialized\")\n",
    "        \n",
    "# def on_start_clicked(b):\n",
    "#     display(button, reset_button, output)\n",
    "#     init_or_reset()\n",
    "    \n",
    "def on_next_step_clicked(b):\n",
    "    global member\n",
    "    global centroids\n",
    "    global cmpt\n",
    "    global substep1\n",
    "\n",
    "    if substep1:\n",
    "        member = affect_members(member, centroids)\n",
    "        substep1 = False\n",
    "    else:\n",
    "        centroids = update_centroids(member, centroids)\n",
    "        substep1 = True\n",
    "    \n",
    "    # Computing inertia\n",
    "    inertia = 0.\n",
    "    for i, x in enumerate(data_tab):\n",
    "        inertia+=euclidean(x,centroids[member[i]])**2\n",
    "    \n",
    "    with output:\n",
    "        print(f\"inertia: {inertia}\")\n",
    "    \n",
    "    return inertia\n",
    "            \n",
    "def on_reset_clicked(b):\n",
    "    init_or_reset()"
   ]
  },
  {
   "cell_type": "code",
   "execution_count": 20,
   "metadata": {},
   "outputs": [],
   "source": [
    "def on_play_clicked(b):\n",
    "    old_inertia = 0\n",
    "    while True:\n",
    "        time.sleep(1)\n",
    "        new_inertia = on_next_step_clicked(b)\n",
    "        if abs(new_inertia - old_inertia) < 10e-5:\n",
    "            with output:\n",
    "                print(\"animation finished\")\n",
    "            break\n",
    "        old_inertia = new_inertia"
   ]
  },
  {
   "cell_type": "code",
   "execution_count": 21,
   "metadata": {},
   "outputs": [],
   "source": [
    "# start_button.on_click(on_start_clicked)\n",
    "next_button.on_click(on_next_step_clicked)\n",
    "reset_button.on_click(on_reset_clicked)\n",
    "play_button.on_click(on_play_clicked)"
   ]
  },
  {
   "cell_type": "code",
   "execution_count": 22,
   "metadata": {
    "scrolled": false
   },
   "outputs": [
    {
     "data": {
      "application/vnd.jupyter.widget-view+json": {
       "model_id": "dd43b91191ce446ab65ea1af1331c696",
       "version_major": 2,
       "version_minor": 0
      },
      "text/plain": [
       "VBox(children=(HBox(children=(Button(description='Play animation', style=ButtonStyle()),)), HBox(children=(But…"
      ]
     },
     "metadata": {},
     "output_type": "display_data"
    }
   ],
   "source": [
    "VBox([HBox([play_button]), HBox([next_button, reset_button]), fig, output], layout=Layout(height=\"800px\"))"
   ]
  },
  {
   "cell_type": "code",
   "execution_count": null,
   "metadata": {},
   "outputs": [],
   "source": []
  }
 ],
 "metadata": {
  "kernelspec": {
   "display_name": "formation_demos",
   "language": "python",
   "name": "formation_demos"
  },
  "language_info": {
   "codemirror_mode": {
    "name": "ipython",
    "version": 3
   },
   "file_extension": ".py",
   "mimetype": "text/x-python",
   "name": "python",
   "nbconvert_exporter": "python",
   "pygments_lexer": "ipython3",
   "version": "3.7.0"
  }
 },
 "nbformat": 4,
 "nbformat_minor": 2
}
